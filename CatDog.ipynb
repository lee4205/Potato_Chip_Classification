{
  "nbformat": 4,
  "nbformat_minor": 0,
  "metadata": {
    "accelerator": "GPU",
    "colab": {
      "name": "Cat & Dog.ipynb",
      "provenance": []
    },
    "kernelspec": {
      "display_name": "Python 3",
      "name": "python3"
    }
  },
  "cells": [
    {
      "cell_type": "code",
      "metadata": {
        "id": "Q3waP9pPR9gK"
      },
      "source": [
        "!mkdir -p ~/.kaggle\r\n",
        "!mv kaggle.json ~/.kaggle/"
      ],
      "execution_count": null,
      "outputs": []
    },
    {
      "cell_type": "code",
      "metadata": {
        "id": "WZf9P-YhSAHq"
      },
      "source": [
        "!pip install kaggle"
      ],
      "execution_count": null,
      "outputs": []
    },
    {
      "cell_type": "code",
      "metadata": {
        "id": "xhbXuo_rSBhf"
      },
      "source": [
        "!chmod 600 /root/.kaggle/kaggle.json"
      ],
      "execution_count": null,
      "outputs": []
    },
    {
      "cell_type": "code",
      "metadata": {
        "id": "YUn6WdgnSE0w"
      },
      "source": [
        "!kaggle competitions download -c dogs-vs-cats"
      ],
      "execution_count": null,
      "outputs": []
    },
    {
      "cell_type": "code",
      "metadata": {
        "id": "96HhNhJASNmA"
      },
      "source": [
        "!unzip train.zip\r\n",
        "!unzip test1.zip"
      ],
      "execution_count": null,
      "outputs": []
    },
    {
      "cell_type": "code",
      "metadata": {
        "id": "LtcsV5-FSV_A"
      },
      "source": [
        "import numpy as np\r\n",
        "import pandas as pd \r\n",
        "from keras.preprocessing.image import ImageDataGenerator, load_img\r\n",
        "from keras.utils import to_categorical\r\n",
        "from sklearn.model_selection import train_test_split\r\n",
        "import matplotlib.pyplot as plt\r\n",
        "import random\r\n",
        "import os\r\n",
        "print(os.listdir(\"/content\"))"
      ],
      "execution_count": null,
      "outputs": []
    },
    {
      "cell_type": "code",
      "metadata": {
        "id": "OcTDazkyS2G6"
      },
      "source": [
        "FAST_RUN = False\r\n",
        "IMAGE_WIDTH=128\r\n",
        "IMAGE_HEIGHT=128\r\n",
        "IMAGE_SIZE=(IMAGE_WIDTH, IMAGE_HEIGHT)\r\n",
        "IMAGE_CHANNELS=3"
      ],
      "execution_count": null,
      "outputs": []
    },
    {
      "cell_type": "code",
      "metadata": {
        "id": "JP8xSJqXS5fj"
      },
      "source": [
        "filenames = os.listdir(\"/content/train\")\r\n",
        "categories = []\r\n",
        "for filename in filenames:\r\n",
        "    category = filename.split('.')[0]\r\n",
        "    if category == 'dog':\r\n",
        "        categories.append(1)\r\n",
        "    else:\r\n",
        "        categories.append(0)\r\n",
        "\r\n",
        "df = pd.DataFrame({\r\n",
        "    'filename': filenames,\r\n",
        "    'category': categories\r\n",
        "})"
      ],
      "execution_count": null,
      "outputs": []
    },
    {
      "cell_type": "code",
      "metadata": {
        "id": "EEwtZetZVFBz"
      },
      "source": [
        "df.head()"
      ],
      "execution_count": null,
      "outputs": []
    },
    {
      "cell_type": "code",
      "metadata": {
        "id": "qD9hsjOLVMiw"
      },
      "source": [
        "df.tail()"
      ],
      "execution_count": null,
      "outputs": []
    },
    {
      "cell_type": "code",
      "metadata": {
        "id": "gD7wuZriVjrv"
      },
      "source": [
        "df['category'].value_counts().plot.bar()"
      ],
      "execution_count": null,
      "outputs": []
    },
    {
      "cell_type": "code",
      "metadata": {
        "id": "wVHuPbLKV7Nc"
      },
      "source": [
        "sample = random.choice(filenames)\r\n",
        "image = load_img(\"/content/train/\" + sample)\r\n",
        "plt.imshow(image)"
      ],
      "execution_count": null,
      "outputs": []
    },
    {
      "cell_type": "code",
      "metadata": {
        "id": "ovNWKCgjWbLQ"
      },
      "source": [
        "from keras.models import Sequential\r\n",
        "from keras.layers import Conv2D, MaxPooling2D, Dropout, Flatten, Dense, Activation, BatchNormalization\r\n",
        "\r\n",
        "model = Sequential()\r\n",
        "\r\n",
        "model.add(Conv2D(32, (3, 3), activation='relu', input_shape=(IMAGE_WIDTH, IMAGE_HEIGHT, IMAGE_CHANNELS)))\r\n",
        "model.add(BatchNormalization())\r\n",
        "model.add(MaxPooling2D(pool_size=(2, 2)))\r\n",
        "model.add(Dropout(0.25))\r\n",
        "\r\n",
        "model.add(Conv2D(64, (3, 3), activation='relu'))\r\n",
        "model.add(BatchNormalization())\r\n",
        "model.add(MaxPooling2D(pool_size=(2, 2)))\r\n",
        "model.add(Dropout(0.25))\r\n",
        "\r\n",
        "model.add(Conv2D(128, (3, 3), activation='relu'))\r\n",
        "model.add(BatchNormalization())\r\n",
        "model.add(MaxPooling2D(pool_size=(2, 2)))\r\n",
        "model.add(Dropout(0.25))\r\n",
        "\r\n",
        "model.add(Flatten())\r\n",
        "model.add(Dense(512, activation='relu'))\r\n",
        "model.add(BatchNormalization())\r\n",
        "model.add(Dropout(0.5))\r\n",
        "model.add(Dense(2, activation='softmax')) # 2 because we have cat and dog classes\r\n",
        "\r\n",
        "model.compile(loss='categorical_crossentropy', optimizer='rmsprop', metrics=['accuracy'])\r\n",
        "\r\n",
        "model.summary()"
      ],
      "execution_count": null,
      "outputs": []
    },
    {
      "cell_type": "code",
      "metadata": {
        "id": "eb117ZhIYukV"
      },
      "source": [
        "from keras.callbacks import EarlyStopping, ReduceLROnPlateau"
      ],
      "execution_count": null,
      "outputs": []
    },
    {
      "cell_type": "code",
      "metadata": {
        "id": "ZuD6glcgY1WZ"
      },
      "source": [
        "earlystop = EarlyStopping(patience=10)"
      ],
      "execution_count": null,
      "outputs": []
    },
    {
      "cell_type": "code",
      "metadata": {
        "id": "Imys_t8XZFS9"
      },
      "source": [
        "learning_rate_reduction = ReduceLROnPlateau(monitor='val_acc', \r\n",
        "                                            patience=2, \r\n",
        "                                            verbose=1, \r\n",
        "                                            factor=0.5, \r\n",
        "                                            min_lr=0.00001)"
      ],
      "execution_count": null,
      "outputs": []
    },
    {
      "cell_type": "code",
      "metadata": {
        "id": "_M0WeGHmZK1e"
      },
      "source": [
        "callbacks = [earlystop, learning_rate_reduction]"
      ],
      "execution_count": null,
      "outputs": []
    },
    {
      "cell_type": "code",
      "metadata": {
        "id": "5EpRfiWCZzOB"
      },
      "source": [
        "df[\"category\"] = df[\"category\"].replace({0: 'cat', 1: 'dog'}) "
      ],
      "execution_count": null,
      "outputs": []
    },
    {
      "cell_type": "code",
      "metadata": {
        "id": "XYYSlF5AiBcm"
      },
      "source": [
        "df.head()"
      ],
      "execution_count": null,
      "outputs": []
    },
    {
      "cell_type": "code",
      "metadata": {
        "id": "Wr1yKD3Bh1N4"
      },
      "source": [
        "train_df, validate_df = train_test_split(df, test_size=0.20, random_state=42)\r\n",
        "train_df = train_df.reset_index(drop=True)\r\n",
        "validate_df = validate_df.reset_index(drop=True)"
      ],
      "execution_count": null,
      "outputs": []
    },
    {
      "cell_type": "code",
      "metadata": {
        "id": "Z7FF-MgXh4KR"
      },
      "source": [
        "train_df['category'].value_counts().plot.bar()"
      ],
      "execution_count": null,
      "outputs": []
    },
    {
      "cell_type": "code",
      "metadata": {
        "id": "XlEbH59nj2LQ"
      },
      "source": [
        "validate_df['category'].value_counts().plot.bar()"
      ],
      "execution_count": null,
      "outputs": []
    },
    {
      "cell_type": "code",
      "metadata": {
        "id": "LTZEYSGakPYT"
      },
      "source": [
        "total_train = train_df.shape[0]\r\n",
        "total_validate = validate_df.shape[0]\r\n",
        "batch_size=15"
      ],
      "execution_count": null,
      "outputs": []
    },
    {
      "cell_type": "code",
      "metadata": {
        "id": "w-1Krc_GkwxT"
      },
      "source": [
        "train_datagen = ImageDataGenerator(\r\n",
        "    rotation_range=15,\r\n",
        "    rescale=1./255,\r\n",
        "    shear_range=0.1,\r\n",
        "    zoom_range=0.2,\r\n",
        "    horizontal_flip=True,\r\n",
        "    width_shift_range=0.1,\r\n",
        "    height_shift_range=0.1\r\n",
        ")\r\n",
        "\r\n",
        "train_generator = train_datagen.flow_from_dataframe(\r\n",
        "    train_df, \r\n",
        "    \"/content/train/\", \r\n",
        "    x_col='filename',\r\n",
        "    y_col='category',\r\n",
        "    target_size=IMAGE_SIZE,\r\n",
        "    class_mode='categorical',\r\n",
        "    batch_size=batch_size\r\n",
        ")"
      ],
      "execution_count": null,
      "outputs": []
    },
    {
      "cell_type": "code",
      "metadata": {
        "id": "qTdc64AolOAJ"
      },
      "source": [
        "validation_datagen = ImageDataGenerator(rescale=1./255)\r\n",
        "validation_generator = validation_datagen.flow_from_dataframe(\r\n",
        "    validate_df, \r\n",
        "    \"/content/train/\", \r\n",
        "    x_col='filename',\r\n",
        "    y_col='category',\r\n",
        "    target_size=IMAGE_SIZE,\r\n",
        "    class_mode='categorical',\r\n",
        "    batch_size=batch_size\r\n",
        ")"
      ],
      "execution_count": null,
      "outputs": []
    },
    {
      "cell_type": "code",
      "metadata": {
        "id": "sv0ehf69lWso"
      },
      "source": [
        "example_df = train_df.sample(n=1).reset_index(drop=True)\r\n",
        "example_generator = train_datagen.flow_from_dataframe(\r\n",
        "    example_df, \r\n",
        "    \"/content/train/\", \r\n",
        "    x_col='filename',\r\n",
        "    y_col='category',\r\n",
        "    target_size=IMAGE_SIZE,\r\n",
        "    class_mode='categorical'\r\n",
        ")"
      ],
      "execution_count": null,
      "outputs": []
    },
    {
      "cell_type": "code",
      "metadata": {
        "id": "zgrebFKilhEY"
      },
      "source": [
        "plt.figure(figsize=(12, 12))\r\n",
        "for i in range(0, 15):\r\n",
        "    plt.subplot(5, 3, i+1)\r\n",
        "    for X_batch, Y_batch in example_generator:\r\n",
        "        image = X_batch[0]\r\n",
        "        plt.imshow(image)\r\n",
        "        break\r\n",
        "plt.tight_layout()\r\n",
        "plt.show()"
      ],
      "execution_count": null,
      "outputs": []
    },
    {
      "cell_type": "code",
      "metadata": {
        "id": "2zQFvjcJnEnc"
      },
      "source": [
        "epochs=3 if FAST_RUN else 50\r\n",
        "history = model.fit_generator(\r\n",
        "    train_generator, \r\n",
        "    epochs=epochs,\r\n",
        "    validation_data=validation_generator,\r\n",
        "    validation_steps=total_validate//batch_size,\r\n",
        "    steps_per_epoch=total_train//batch_size,\r\n",
        "    callbacks=callbacks\r\n",
        ")"
      ],
      "execution_count": null,
      "outputs": []
    },
    {
      "cell_type": "code",
      "metadata": {
        "id": "Gro3esD4pQGl"
      },
      "source": [
        "model.save_weights(\"model.h5\")"
      ],
      "execution_count": null,
      "outputs": []
    },
    {
      "cell_type": "code",
      "metadata": {
        "id": "Hblm6-yWpSK4"
      },
      "source": [
        "fig, (ax1, ax2) = plt.subplots(2, 1, figsize=(12, 12))\r\n",
        "ax1.plot(history.history['loss'], color='b', label=\"Training loss\")\r\n",
        "ax1.plot(history.history['val_loss'], color='r', label=\"validation loss\")\r\n",
        "ax1.set_xticks(np.arange(1, epochs, 1))\r\n",
        "ax1.set_yticks(np.arange(0, 1, 0.1))\r\n",
        "\r\n",
        "ax2.plot(history.history['accuracy'], color='b', label=\"Training accuracy\")\r\n",
        "ax2.plot(history.history['val_accuracy'], color='r',label=\"Validation accuracy\")\r\n",
        "ax2.set_xticks(np.arange(1, epochs, 1))\r\n",
        "\r\n",
        "legend = plt.legend(loc='best', shadow=True)\r\n",
        "plt.tight_layout()\r\n",
        "plt.show()"
      ],
      "execution_count": null,
      "outputs": []
    },
    {
      "cell_type": "code",
      "metadata": {
        "id": "tkOmnw2-p9RD"
      },
      "source": [
        "test_filenames = os.listdir(\"/content/test1\")\r\n",
        "test_df = pd.DataFrame({\r\n",
        "    'filename': test_filenames\r\n",
        "})\r\n",
        "nb_samples = test_df.shape[0]"
      ],
      "execution_count": null,
      "outputs": []
    },
    {
      "cell_type": "code",
      "metadata": {
        "id": "t-LqoHCeqCeF"
      },
      "source": [
        "test_gen = ImageDataGenerator(rescale=1./255)\r\n",
        "test_generator = test_gen.flow_from_dataframe(\r\n",
        "    test_df, \r\n",
        "    \"/content/test1/\", \r\n",
        "    x_col='filename',\r\n",
        "    y_col=None,\r\n",
        "    class_mode=None,\r\n",
        "    target_size=IMAGE_SIZE,\r\n",
        "    batch_size=batch_size,\r\n",
        "    shuffle=False\r\n",
        ")"
      ],
      "execution_count": null,
      "outputs": []
    },
    {
      "cell_type": "code",
      "metadata": {
        "id": "EZViASfeqGzO"
      },
      "source": [
        "predict = model.predict_generator(test_generator, steps=np.ceil(nb_samples/batch_size))"
      ],
      "execution_count": null,
      "outputs": []
    },
    {
      "cell_type": "code",
      "metadata": {
        "id": "Cfoo6NPlrnEl"
      },
      "source": [
        "test_df['category'] = np.argmax(predict, axis=-1)"
      ],
      "execution_count": null,
      "outputs": []
    },
    {
      "cell_type": "code",
      "metadata": {
        "id": "VhJVj7VEr4yg"
      },
      "source": [
        "label_map = dict((v,k) for k,v in train_generator.class_indices.items())\r\n",
        "test_df['category'] = test_df['category'].replace(label_map)"
      ],
      "execution_count": null,
      "outputs": []
    },
    {
      "cell_type": "code",
      "metadata": {
        "id": "DfuqKFNfr905"
      },
      "source": [
        "test_df['category'].value_counts().plot.bar()"
      ],
      "execution_count": null,
      "outputs": []
    },
    {
      "cell_type": "code",
      "metadata": {
        "id": "dtmawVGosAjV"
      },
      "source": [
        "sample_test = test_df.head(18)\r\n",
        "sample_test.head()\r\n",
        "plt.figure(figsize=(12, 24))\r\n",
        "for index, row in sample_test.iterrows():\r\n",
        "    filename = row['filename']\r\n",
        "    category = row['category']\r\n",
        "    img = load_img(\"/content/test1/\"+filename, target_size=IMAGE_SIZE)\r\n",
        "    plt.subplot(6, 3, index+1)\r\n",
        "    plt.imshow(img)\r\n",
        "    plt.xlabel(filename + '(' + \"{}\".format(category) + ')' )\r\n",
        "plt.tight_layout()\r\n",
        "plt.show()"
      ],
      "execution_count": null,
      "outputs": []
    }
  ]
}