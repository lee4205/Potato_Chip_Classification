{
  "nbformat": 4,
  "nbformat_minor": 0,
  "metadata": {
    "colab": {
      "name": "Classification.ipynb",
      "provenance": [],
      "collapsed_sections": [],
      "authorship_tag": "ABX9TyMPXYH6WKfaTOFuL1V03XWP",
      "include_colab_link": true
    },
    "kernelspec": {
      "name": "python3",
      "display_name": "Python 3"
    },
    "accelerator": "TPU"
  },
  "cells": [
    {
      "cell_type": "markdown",
      "metadata": {
        "id": "view-in-github",
        "colab_type": "text"
      },
      "source": [
        "<a href=\"https://colab.research.google.com/github/lee4205/Potato_Chip_Classification/blob/master/Classification.ipynb\" target=\"_parent\"><img src=\"https://colab.research.google.com/assets/colab-badge.svg\" alt=\"Open In Colab\"/></a>"
      ]
    },
    {
      "cell_type": "code",
      "metadata": {
        "id": "k35AtEiCVshd"
      },
      "source": [
        ""
      ],
      "execution_count": null,
      "outputs": []
    },
    {
      "cell_type": "code",
      "metadata": {
        "id": "zzSsfXhDXeC0"
      },
      "source": [
        "cd Potato_Chip_Classification"
      ],
      "execution_count": null,
      "outputs": []
    },
    {
      "cell_type": "code",
      "metadata": {
        "id": "F0wE7mc3t8yl"
      },
      "source": [
        "import sys\r\n",
        "import os\r\n",
        "import csv\r\n",
        "import subprocess\r\n",
        "import numpy as np\r\n",
        "import pandas as pd\r\n",
        "import seaborn as sns\r\n",
        "import matplotlib.pyplot as plt\r\n",
        "import matplotlib.image as mpimg\r\n",
        "from PIL import Image\r\n",
        "from sklearn.model_selection import train_test_split\r\n",
        "from sklearn.metrics import classification_report, confusion_matrix\r\n",
        "from sklearn.preprocessing import LabelBinarizer\r\n",
        "from keras.models import Sequential\r\n",
        "from keras.layers import Dense, Conv2D , MaxPool2D , Flatten , Dropout , BatchNormalization\r\n",
        "from keras.preprocessing.image import ImageDataGenerator\r\n",
        "from keras.callbacks import ReduceLROnPlateau"
      ],
      "execution_count": null,
      "outputs": []
    },
    {
      "cell_type": "code",
      "metadata": {
        "id": "Z-KI_Wt5usJO"
      },
      "source": [
        "cwd = os.getcwd()\r\n",
        "subprocess.run([\"mkdir \" + cwd + \"/dataset\"], shell=True)"
      ],
      "execution_count": null,
      "outputs": []
    },
    {
      "cell_type": "code",
      "metadata": {
        "id": "NYkLaoLLDBLP"
      },
      "source": [
        "image_width = 1280 // 10\r\n",
        "image_height = 960 // 10\r\n",
        "image_size = (image_width, image_height)\r\n",
        "image_channel = 1"
      ],
      "execution_count": null,
      "outputs": []
    },
    {
      "cell_type": "code",
      "metadata": {
        "id": "gc0eXM7Lt7FR"
      },
      "source": [
        "flavors = os.listdir(cwd + \"/potato-chips\")\r\n",
        "with open(\"potato_chips.csv\", 'a') as c:\r\n",
        "    csv_input = csv.writer(c)\r\n",
        "    pixels = []\r\n",
        "    pixel = 0\r\n",
        "    for x in range((image_width)*(image_height)):\r\n",
        "        pixel += 1\r\n",
        "        pixels.append('pixel'+ str(pixel))\r\n",
        "    header = [\"image\", \"flavor\"]\r\n",
        "    header.extend(pixels)\r\n",
        "    csv_input.writerow(header)\r\n",
        "    for flavor in flavors:\r\n",
        "        images = os.listdir(cwd + f\"/potato-chips/{flavor}\")\r\n",
        "        print(\"loading image from \" + flavor + \" ...\")\r\n",
        "        for image in images:\r\n",
        "            rgb_image = Image.open(cwd + f\"/potato-chips/{flavor}/\" + image)\r\n",
        "            grey_image = rgb_image.convert('L').resize((image_width, image_height))\r\n",
        "            pixel_data = np.asarray(grey_image.getdata(), dtype=np.int).reshape((grey_image.size[1], grey_image.size[0]))\r\n",
        "            pixel_data = pixel_data.flatten()\r\n",
        "            image_data = [image, flavors.index(flavor)]\r\n",
        "            image_data.extend(pixel_data)\r\n",
        "            csv_input.writerow(image_data)\r\n",
        "        subprocess.run([\"cp \" + cwd + \"/potato-chips/\" + flavor + \"/*.jpg \" + cwd + \"/dataset\"], shell=True)"
      ],
      "execution_count": null,
      "outputs": []
    },
    {
      "cell_type": "code",
      "metadata": {
        "id": "bVYM6tSiHmfg"
      },
      "source": [
        "df = pd.read_csv(cwd + \"/potato_chips.csv\")\r\n",
        "train_df, validate_df = train_test_split(df, train_size=0.6, random_state=42)\r\n",
        "validate_df, test_df = train_test_split(validate_df, test_size=0.5, random_state=42)\r\n",
        "train_df = train_df.reset_index(drop=True)\r\n",
        "validate_df = validate_df.reset_index(drop=True)\r\n",
        "test_df = test_df.reset_index(drop=True)"
      ],
      "execution_count": null,
      "outputs": []
    },
    {
      "cell_type": "code",
      "metadata": {
        "id": "vUabZJ7TzqIQ"
      },
      "source": [
        "# デバッグ用\r\n",
        "# train_df\r\n",
        "# validate_df\r\n",
        "# test_df\r\n",
        "# plt.figure(figsize = (15,15))\r\n",
        "# sns.set_style(\"darkgrid\")\r\n",
        "# sns.countplot(train_df['flavor'])\r\n",
        "# sns.countplot(validate_df['flavor'])\r\n",
        "# sns.countplot(test_df['flavor'])"
      ],
      "execution_count": null,
      "outputs": []
    },
    {
      "cell_type": "code",
      "metadata": {
        "id": "ygOQHOMdLPPg"
      },
      "source": [
        "y_train = train_df['flavor']\r\n",
        "y_validate = validate_df['flavor']\r\n",
        "y_test = test_df['flavor']\r\n",
        "y = test_df['flavor']\r\n",
        "del train_df['image'], train_df['flavor']\r\n",
        "del validate_df['image'], validate_df['flavor']\r\n",
        "del test_df['image'], test_df['flavor']"
      ],
      "execution_count": null,
      "outputs": []
    },
    {
      "cell_type": "code",
      "metadata": {
        "id": "1299Dfp8MEls"
      },
      "source": [
        "label_binarizer = LabelBinarizer()\r\n",
        "y_train = label_binarizer.fit_transform(y_train)\r\n",
        "y_validate = label_binarizer.fit_transform(y_validate)\r\n",
        "y_test = label_binarizer.fit_transform(y_test)"
      ],
      "execution_count": null,
      "outputs": []
    },
    {
      "cell_type": "code",
      "metadata": {
        "id": "4PmNQX_dMLB_"
      },
      "source": [
        "x_train = train_df.values\r\n",
        "x_validate = validate_df.values\r\n",
        "x_test = test_df.values"
      ],
      "execution_count": null,
      "outputs": []
    },
    {
      "cell_type": "code",
      "metadata": {
        "id": "aP0po7rsMSrP"
      },
      "source": [
        "x_train = x_train / 255\r\n",
        "x_validate = x_validate / 255\r\n",
        "x_test = x_test / 255"
      ],
      "execution_count": null,
      "outputs": []
    },
    {
      "cell_type": "code",
      "metadata": {
        "id": "djNdQBjiMXrg"
      },
      "source": [
        "x_train = x_train.reshape(-1,image_height,image_width,1)\r\n",
        "x_validate = x_validate.reshape(-1,image_height,image_width,1)\r\n",
        "x_test = x_test.reshape(-1,image_height,image_width,1)"
      ],
      "execution_count": null,
      "outputs": []
    },
    {
      "cell_type": "code",
      "metadata": {
        "id": "-WYwhYFUMsS4"
      },
      "source": [
        "# デバッグ用\r\n",
        "f, ax = plt.subplots(3,3) \r\n",
        "f.set_size_inches(10, 10)\r\n",
        "k = 0\r\n",
        "for i in range(3):\r\n",
        "    for j in range(3):\r\n",
        "        ax[i,j].imshow(x_train[k].reshape(image_height,image_width) , cmap = \"gray\")\r\n",
        "        k += 1\r\n",
        "    plt.tight_layout()    "
      ],
      "execution_count": null,
      "outputs": []
    },
    {
      "cell_type": "code",
      "metadata": {
        "id": "OQ5pLk6RnGD3"
      },
      "source": [
        "datagen = ImageDataGenerator(featurewise_center=False, # set input mean to 0 over the dataset\r\n",
        "                             samplewise_center=False, # set each sample mean to 0\r\n",
        "                             featurewise_std_normalization=False, # divide inputs by std of the dataset\r\n",
        "                             samplewise_std_normalization=False, # divide each input by its std\r\n",
        "                             zca_whitening=False, # apply ZCA whitening\r\n",
        "                             rotation_range=10, # randomly rotate images in the range (degrees, 0 to 180)\r\n",
        "                             zoom_range = 0.1, # Randomly zoom image \r\n",
        "                             width_shift_range=0.1, # randomly shift images horizontally (fraction of total width)\r\n",
        "                             height_shift_range=0.1, # randomly shift images vertically (fraction of total height)\r\n",
        "                             horizontal_flip=False, # randomly flip images\r\n",
        "                             vertical_flip=False) # randomly flip images\r\n",
        "datagen.fit(x_train)"
      ],
      "execution_count": null,
      "outputs": []
    },
    {
      "cell_type": "code",
      "metadata": {
        "id": "7JRiqkWCnfJf"
      },
      "source": [
        "learning_rate_reduction = ReduceLROnPlateau(monitor='val_accuracy',\r\n",
        "                                            patience =2,\r\n",
        "                                            verbose=1,\r\n",
        "                                            factor=0.5,\r\n",
        "                                            min_lr=0.00001)"
      ],
      "execution_count": null,
      "outputs": []
    },
    {
      "cell_type": "code",
      "metadata": {
        "id": "s-M2qMLmnkHN"
      },
      "source": [
        "model = Sequential()\r\n",
        "model.add(Conv2D(75 , (3,3) , strides = 1 , padding = 'same' , activation = 'relu' , input_shape = (image_width,image_height,image_channel)))\r\n",
        "model.add(BatchNormalization())\r\n",
        "model.add(MaxPool2D((2,2) , strides = 2 , padding = 'same'))\r\n",
        "model.add(Conv2D(50 , (3,3) , strides = 1 , padding = 'same' , activation = 'relu'))\r\n",
        "model.add(Dropout(0.2))\r\n",
        "model.add(BatchNormalization())\r\n",
        "model.add(MaxPool2D((2,2) , strides = 2 , padding = 'same'))\r\n",
        "model.add(Conv2D(25 , (3,3) , strides = 1 , padding = 'same' , activation = 'relu'))\r\n",
        "model.add(BatchNormalization())\r\n",
        "model.add(MaxPool2D((2,2) , strides = 2 , padding = 'same'))\r\n",
        "model.add(Flatten())\r\n",
        "model.add(Dense(units = 512 , activation = 'relu'))\r\n",
        "model.add(Dropout(0.3))\r\n",
        "model.add(Dense(units = 7 , activation = 'softmax'))\r\n",
        "model.compile(optimizer = 'adam' , loss = 'categorical_crossentropy' , metrics = ['accuracy'])\r\n",
        "model.summary()"
      ],
      "execution_count": null,
      "outputs": []
    },
    {
      "cell_type": "code",
      "metadata": {
        "id": "KhF9GuqlnpVd"
      },
      "source": [
        "history = model.fit(datagen.flow(x_train,y_train, batch_size = 5),\r\n",
        "                    epochs = 200,\r\n",
        "                    validation_data = (x_validate, y_validate),\r\n",
        "                    callbacks = [learning_rate_reduction])"
      ],
      "execution_count": null,
      "outputs": []
    },
    {
      "cell_type": "code",
      "metadata": {
        "id": "gd0ysq0_q4Sq"
      },
      "source": [
        "print(\"Accuracy of the model is - \" , model.evaluate(x_validate,y_validate)[1]*100 , \"%\")"
      ],
      "execution_count": null,
      "outputs": []
    },
    {
      "cell_type": "code",
      "metadata": {
        "id": "Vdzu1Jqqq_eQ"
      },
      "source": [
        "fig, axs = plt.subplots(1,2,figsize=(15,5))\r\n",
        "axs[0].plot(range(1,len(history.history[\"accuracy\"])+1),history.history[\"accuracy\"])\r\n",
        "axs[0].plot(range(1,len(history.history[\"val_accuracy\"])+1),history.history[\"val_accuracy\"])\r\n",
        "axs[0].set_title(\"Model Accuracy\")\r\n",
        "axs[0].set_ylabel(\"Accuracy\")\r\n",
        "axs[0].set_xlabel(\"Epoch\")\r\n",
        "axs[0].set_xticks(np.arange(1,len(history.history[\"accuracy\"])+1),len(history.history[\"accuracy\"])/10)\r\n",
        "axs[0].legend([\"train\", \"val\"], loc=\"best\")\r\n",
        "axs[1].plot(range(1,len(history.history[\"loss\"])+1),history.history[\"loss\"])\r\n",
        "axs[1].plot(range(1,len(history.history[\"val_loss\"])+1),history.history[\"val_loss\"])\r\n",
        "axs[1].set_title(\"Model Loss\")\r\n",
        "axs[1].set_ylabel(\"Loss\")\r\n",
        "axs[1].set_xlabel(\"Epoch\")\r\n",
        "axs[1].set_xticks(np.arange(1,len(history.history[\"loss\"])+1),len(history.history[\"loss\"])/10)\r\n",
        "axs[1].legend([\"train\", \"val\"], loc=\"best\")\r\n",
        "plt.show()"
      ],
      "execution_count": null,
      "outputs": []
    },
    {
      "cell_type": "code",
      "metadata": {
        "id": "Fi8HoCVGra-B"
      },
      "source": [
        "predictions = model.predict_classes(x_test)\r\n",
        "for i in range(len(predictions)):\r\n",
        "    if(predictions[i] >= 9):\r\n",
        "        predictions[i] += 1\r\n",
        "predictions[:5] "
      ],
      "execution_count": null,
      "outputs": []
    },
    {
      "cell_type": "code",
      "metadata": {
        "id": "riTDFMk5rfLp"
      },
      "source": [
        "classes = [\"Class \" + str(i) for i in range(8) if i != 0]\r\n",
        "print(classification_report(y, predictions, target_names = classes))"
      ],
      "execution_count": null,
      "outputs": []
    },
    {
      "cell_type": "code",
      "metadata": {
        "id": "zQBG9JD3sYhi"
      },
      "source": [
        "cm = confusion_matrix(y,predictions)\r\n",
        "cm = pd.DataFrame(cm , index = [i for i in range(8) if i != 0] , columns = [i for i in range(8) if i != 0])\r\n",
        "plt.figure(figsize = (10,10))\r\n",
        "sns.heatmap(cm,cmap= \"Blues\", linecolor = 'black' , linewidth = 1 , annot = True, fmt='')"
      ],
      "execution_count": null,
      "outputs": []
    },
    {
      "cell_type": "code",
      "metadata": {
        "id": "V_WFWeoqsinY"
      },
      "source": [
        "correct = (predictions == y).to_numpy().nonzero()[0]"
      ],
      "execution_count": null,
      "outputs": []
    },
    {
      "cell_type": "code",
      "metadata": {
        "id": "vOhS2JEjsk8Y"
      },
      "source": [
        "i = 0\r\n",
        "plt.figure(figsize = (10,10))\r\n",
        "for c in correct[:9]:\r\n",
        "    plt.subplot(3,3,i+1)\r\n",
        "    plt.imshow(x_test[c].reshape(image_height,image_width), cmap=\"gray\", interpolation='none')\r\n",
        "    plt.title(\"Predicted Class {}, Actual Class {}\".format(predictions[c], y[c]))\r\n",
        "    plt.tight_layout()\r\n",
        "    i += 1"
      ],
      "execution_count": null,
      "outputs": []
    }
  ]
}